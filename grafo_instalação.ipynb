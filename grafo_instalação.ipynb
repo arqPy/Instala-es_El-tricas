{
  "nbformat": 4,
  "nbformat_minor": 0,
  "metadata": {
    "colab": {
      "provenance": [],
      "authorship_tag": "ABX9TyMy1w94U4xWs5LH90nz/gw6",
      "include_colab_link": true
    },
    "kernelspec": {
      "name": "python3",
      "display_name": "Python 3"
    },
    "language_info": {
      "name": "python"
    }
  },
  "cells": [
    {
      "cell_type": "markdown",
      "metadata": {
        "id": "view-in-github",
        "colab_type": "text"
      },
      "source": [
        "<a href=\"https://colab.research.google.com/github/arqPy/Instala-es_El-tricas/blob/main/grafo_instala%C3%A7%C3%A3o.ipynb\" target=\"_parent\"><img src=\"https://colab.research.google.com/assets/colab-badge.svg\" alt=\"Open In Colab\"/></a>"
      ]
    },
    {
      "cell_type": "markdown",
      "source": [
        "# Instalações Elétricas\n",
        "\n",
        "- ler dados da arquitetura:\n",
        "\n",
        "\n",
        "> Cômodo com suas respectivas dimensões\n",
        "\n",
        "\n",
        "![](https://github.com/arqPy/Instala-es_El-tricas/blob/main/fig/pequenaPlanta.png?raw=true)\n",
        "\n",
        "> Calcular potência de iluminação e número mínimo de TUG's\n",
        "\n",
        "\n",
        "\n",
        "- Inserir todas as cargas da instalação\n",
        "\n",
        "\n",
        "\n",
        "\n",
        "\n",
        "\n",
        "\n"
      ],
      "metadata": {
        "id": "Le11xgQCadkq"
      }
    },
    {
      "cell_type": "code",
      "source": [
        "class electricLoad: # Vertices do Grafo\n",
        "  def __init__(self, pot, comodo, circ= 0, x=0, y=0, z=0):\n",
        "    self.Pot = pot\n",
        "    self.comodo = comodo\n",
        "    self.Circ = circ\n",
        "    #self.QD = 0\n",
        "    self.x = x\n",
        "    self.y = y\n",
        "    self.z = z\n",
        "\n",
        "  def potencia(self):\n",
        "    return self.Pot\n",
        "\n",
        "  def Comodo(self):\n",
        "    return self.comodo\n",
        "\n",
        "  def setCirc(self, idCirc):\n",
        "    self.Circirc = idCirc\n",
        "\n",
        "  def getCirc(self):\n",
        "    return self.Circ\n",
        "\n",
        "  '''\n",
        "  def setQD(self, idQD):\n",
        "    self.QD = idQD\n",
        "\n",
        "  def getQD(self):\n",
        "    return self.QD\n",
        "\n",
        "  '''\n",
        "\n",
        "class lamp(electricLoad):\n",
        "  def __init__(self, pot, comodo):\n",
        "    super().__init__(pot, comodo)\n",
        "\n",
        "  def potencia(self):\n",
        "    return self.Pot\n",
        "\n",
        "  def Comodo(self):\n",
        "    return self.comodo\n",
        "\n",
        "class QD(electricLoad):\n",
        "  def __init__(self, pot, comodo):\n",
        "    super().__init__(pot, comodo)\n",
        "    self.Circuitos = {}\n",
        "    self.Tensao = 220\n",
        "\n",
        "  def idCircuitos(self):\n",
        "    return self.Circuitos.keys()\n",
        "\n",
        "  def potencia(self): # potencia total do quadro de distribuicao\n",
        "    return self.Pot\n",
        "\n",
        "  def listCircuits(self, id): # de um dado circuito\n",
        "    return self.Circuitos[id]\n",
        "\n",
        "  def createCircuito(self, idCirc, lLoadsCirc, dictLoads, Smin=2.5):\n",
        "      pCirc = 0\n",
        "      for idload in lLoadsCirc:\n",
        "        L = dictLoads[idload]\n",
        "        if (L.getCirc() == 0):\n",
        "          pCirc = pCirc + L.potencia()\n",
        "          L.setCirc(idCirc)\n",
        "\n",
        "      C = Circuito(idCirc, lLoadsCirc, pCirc, Smin)\n",
        "      self.Circuitos[idCirc] = C\n",
        "\n",
        "  def Comodo(self):\n",
        "    return self.comodo\n",
        "\n",
        "\n",
        "class TUE(electricLoad):\n",
        "  def __init__(self, pot, comodo):\n",
        "    super().__init__(pot, comodo)\n",
        "\n",
        "  def potencia(self):\n",
        "    return self.Pot\n",
        "\n",
        "  def Comodo(self):\n",
        "    return self.comodo\n",
        "\n",
        "class electricOutlet(electricLoad):\n",
        "  def __init__(self, pot, comodo):\n",
        "    super().__init__(pot, comodo)\n",
        "\n",
        "  def potencia(self):\n",
        "    return self.Pot\n",
        "\n",
        "  def Comodo(self):\n",
        "    return self.comodo"
      ],
      "metadata": {
        "id": "He4iVeSNd3MM"
      },
      "execution_count": null,
      "outputs": []
    },
    {
      "cell_type": "code",
      "source": [
        "class Circuito:\n",
        "  def __init__(self, idCirc, loadsCirc, potCirc, Smin=2.5):\n",
        "    self.loads = loadsCirc\n",
        "    self.idCirc = idCirc\n",
        "    #self.Tensao = Tensao\n",
        "    self.potCirc = potCirc\n",
        "    self.Smin = Smin\n",
        "\n",
        "  def potCircuit(self):\n",
        "    return self.potCirc\n",
        "\n",
        "  def setPotCircuit(self, pot):\n",
        "    self.potCirc = pot\n",
        "\n",
        "  def setLoadsCircuit(self, loadsCirc):\n",
        "    self.loads = loadsCirc\n",
        "\n",
        "  def listLoadsCircuit(self):\n",
        "    return self.loads\n",
        "\n",
        "class graphInstallation:  #Conjunto de Vertices e Arcos\n",
        "  def __init__(self, arquitetura):\n",
        "    self.arquitetura = arquitetura\n",
        "    self.Loads = {} # dicionário para referenciar diretamente cada carga - VERTICES\n",
        "    self.QDs = {} # pode criar um dicionario de QDs {}. Considerando apenas UM\n",
        "    #self.Circuitos = {}\n",
        "    self.TA = 'M1'\n",
        "    self.Pinst = 0\n",
        "    self.__addLoad()\n",
        "\n",
        "  def __potIlum(self, comodo, area):\n",
        "    p = 100\n",
        "    if area < 6:\n",
        "      return p\n",
        "    d = (area - 6) // 4\n",
        "    return p + d*60\n",
        "\n",
        "  def createQD(self, idQD):\n",
        "    qd = QD(self.Pinst, \"Residencia\")\n",
        "    self.QDs[idQD] = qd\n",
        "    self.Loads[\"QD\"+ str(idQD)] = qd\n",
        "\n",
        "  def getQDs(self):\n",
        "    return self.QDs\n",
        "\n",
        "  def __qtdTug(self, comodo, area, per):\n",
        "    q100, q600 = 1, 0\n",
        "\n",
        "    if (comodo == 'Banheiro'):\n",
        "      q100, q600 = 0, 1\n",
        "\n",
        "    if (comodo == 'Sala') or (comodo == 'Quarto'):\n",
        "      q100 = int(1 + per // 5)\n",
        "\n",
        "    if ((comodo == 'Área de Serviço') or (comodo == 'Cozinha')):\n",
        "      q600 = int(1 + per // 3.5)\n",
        "      q100 = 0 # pode retirar?\n",
        "      if q600 > 2:\n",
        "        q100 = q600 - 3\n",
        "        q600 = 3\n",
        "    return (q100, q600)\n",
        "\n",
        "  def listLoads(self):\n",
        "    return self.Loads\n",
        "\n",
        "\n",
        "  def addTUEs(self, listTues):\n",
        "    ids = listTues.keys()\n",
        "    k = 0\n",
        "    for id in ids:\n",
        "      E = TUE(listTues[id]['Pot'], listTues[id]['Comodo'])\n",
        "      k= k + 1\n",
        "      key = \"E\" + str(k)\n",
        "      #print(id, key, Pot)\n",
        "      self.Loads[key] = E\n",
        "\n",
        "  def __addLoad(self):\n",
        "    ids = self.arquitetura.keys()\n",
        "    k = 0\n",
        "    for id in ids:\n",
        "      ele = self.arquitetura[id]\n",
        "      area= ele['C']*ele['L']\n",
        "      per = 2*(ele['C'] + ele['L'])\n",
        "\n",
        "      Pot = self.__potIlum(id, area) # Potencia de Iluminação\n",
        "      L = lamp(Pot, id)\n",
        "      k= k + 1\n",
        "      key = \"L\" + str(k)\n",
        "      #print(id, key, Pot)\n",
        "      self.Loads[key] = L\n",
        "\n",
        "      (qTUG100, qTUG600) = self.__qtdTug(id, area, per)\n",
        "\n",
        "      for i in range(qTUG100):\n",
        "        R = electricOutlet(100, id)\n",
        "        k= k + 1\n",
        "        key = \"R\" + str(k)\n",
        "        self.Loads[key] = R\n",
        "\n",
        "      for i in range(qTUG600):\n",
        "        R = electricOutlet(600, id)\n",
        "        k= k + 1\n",
        "        key = \"R\" + str(k)\n",
        "        self.Loads[key] = R\n",
        "\n",
        "  def potenciaInstalada(self):\n",
        "      loads = self.Loads\n",
        "      ids = loads.keys()\n",
        "      pIlum, pTug, pTue = 0, 0, 0\n",
        "      for id in ids:\n",
        "        l = loads[id]\n",
        "        pot = l.potencia()\n",
        "        if id[0:1]== 'L':\n",
        "          pIlum = pIlum + pot\n",
        "        elif id[0:1]== 'R':\n",
        "          pTug = pTug + pot*0.8 # fator de potencia das TUGs\n",
        "        elif id[0:1]== 'E':\n",
        "          pTue = pTue + pot\n",
        "      Pinst = pIlum + pTug + pTue\n",
        "      TA = 'M1'\n",
        "      if ((Pinst > 15000)and (Pinst < 22000)):\n",
        "        TA = 'B2'\n",
        "      if ((Pinst > 11000)and (Pinst < 15000)):\n",
        "        TA = 'B1'\n",
        "      if ((Pinst > 8000)and (Pinst < 11000)):\n",
        "        TA = 'M2'\n",
        "      if (Pinst > 22000):\n",
        "        TA = 'T'\n",
        "      self.Pinst = Pinst\n",
        "      self.TA = TA\n",
        "      return (Pinst, TA)\n"
      ],
      "metadata": {
        "id": "y4uor7W-sgTJ"
      },
      "execution_count": null,
      "outputs": []
    },
    {
      "cell_type": "code",
      "source": [
        "# import urllib library\n",
        "from urllib.request import urlopen\n",
        "\n",
        "# import json\n",
        "import json\n",
        "# store the URL in url as\n",
        "# parameter for urlopen\n",
        "url = \"https://raw.githubusercontent.com/arqPy/Instala-es_El-tricas/main/arquitetura02.json\"\n",
        "# https://github.com/arqPy/Instala-es_El-tricas/blob/main/arquitetura02.json\n",
        "# store the response of URL\n",
        "response = urlopen(url)\n",
        "\n",
        "# storing the JSON response\n",
        "# from url in data\n",
        "data_json = json.loads(response.read())\n",
        "\n",
        "# print the json response\n",
        "print(data_json)"
      ],
      "metadata": {
        "colab": {
          "base_uri": "https://localhost:8080/"
        },
        "id": "kTL9vEey-pgr",
        "outputId": "b160e487-404c-406a-b5a8-6ab8983469b7"
      },
      "execution_count": null,
      "outputs": [
        {
          "output_type": "stream",
          "name": "stdout",
          "text": [
            "[{'Comodo': 'Área de Serviço', 'Dimensões': {'C': 1.5, 'L': 1.5}}, {'Comodo': 'Quarto', 'Dimensões': {'C': 2.5, 'L': 3.5}}, {'Comodo': 'Sala', 'Dimensões': {'C': 3, 'L': 4.15}}, {'Comodo': 'Cozinha', 'Dimensões': {'C': 1.5, 'L': 3.5}}, {'Comodo': 'Banheiro', 'Dimensões': {'C': 1.5, 'L': 3.5}}]\n"
          ]
        }
      ]
    },
    {
      "cell_type": "code",
      "source": [
        "arquitetura = {}\n",
        "for item in data_json:\n",
        "  key = item['Comodo']\n",
        "  value = item['Dimensões']\n",
        "  arquitetura[key] = value\n",
        "arquitetura"
      ],
      "metadata": {
        "colab": {
          "base_uri": "https://localhost:8080/"
        },
        "id": "XqRjFGts27Mp",
        "outputId": "ef4a9386-849f-406f-f1f7-c174b022ac00"
      },
      "execution_count": null,
      "outputs": [
        {
          "output_type": "execute_result",
          "data": {
            "text/plain": [
              "{'Área de Serviço': {'C': 1.5, 'L': 1.5},\n",
              " 'Quarto': {'C': 2.5, 'L': 3.5},\n",
              " 'Sala': {'C': 3, 'L': 4.15},\n",
              " 'Cozinha': {'C': 1.5, 'L': 3.5},\n",
              " 'Banheiro': {'C': 1.5, 'L': 3.5}}"
            ]
          },
          "metadata": {},
          "execution_count": 4
        }
      ]
    },
    {
      "cell_type": "code",
      "source": [
        "tues = {\n",
        "    'Chuveiro_B1':{'Pot':6500,\"Comodo\": 'Banheiro'}\n",
        "}"
      ],
      "metadata": {
        "id": "O_-TFNYdus0o"
      },
      "execution_count": null,
      "outputs": []
    },
    {
      "cell_type": "code",
      "source": [
        "projInst = graphInstallation(arquitetura)\n",
        "projInst.addTUEs(tues)"
      ],
      "metadata": {
        "id": "zfWF1CZxePI6"
      },
      "execution_count": null,
      "outputs": []
    },
    {
      "cell_type": "code",
      "source": [
        "print(projInst.potenciaInstalada())\n",
        "projInst.createQD(1)\n",
        "projInst.getQDs()"
      ],
      "metadata": {
        "id": "6eqz7yUUmrz3",
        "colab": {
          "base_uri": "https://localhost:8080/"
        },
        "outputId": "9a36df08-d465-4f70-8170-546414b2b2e0"
      },
      "execution_count": null,
      "outputs": [
        {
          "output_type": "stream",
          "name": "stdout",
          "text": [
            "(10420.0, 'M2')\n"
          ]
        },
        {
          "output_type": "execute_result",
          "data": {
            "text/plain": [
              "{1: <__main__.QD at 0x7e4d45bdf820>}"
            ]
          },
          "metadata": {},
          "execution_count": 7
        }
      ]
    },
    {
      "cell_type": "code",
      "source": [
        "qd = projInst.getQDs()[1]\n",
        "qd.potencia()"
      ],
      "metadata": {
        "colab": {
          "base_uri": "https://localhost:8080/"
        },
        "id": "2IJ4F3yUutmf",
        "outputId": "0d85a1e7-f292-4f59-e773-95b4800bde53"
      },
      "execution_count": null,
      "outputs": [
        {
          "output_type": "execute_result",
          "data": {
            "text/plain": [
              "10420.0"
            ]
          },
          "metadata": {},
          "execution_count": 8
        }
      ]
    },
    {
      "cell_type": "code",
      "source": [
        "loads = projInst.listLoads()\n",
        "for lo in loads.keys():\n",
        "  print(lo) # , loads[lo].potencia(), loads[lo].Comodo()"
      ],
      "metadata": {
        "colab": {
          "base_uri": "https://localhost:8080/"
        },
        "id": "f4n3ogJ6nQOk",
        "outputId": "20d66d32-5a2f-4b60-d6d0-521d50805b15"
      },
      "execution_count": null,
      "outputs": [
        {
          "output_type": "stream",
          "name": "stdout",
          "text": [
            "L1\n",
            "R2\n",
            "R3\n",
            "L4\n",
            "R5\n",
            "R6\n",
            "R7\n",
            "L8\n",
            "R9\n",
            "R10\n",
            "R11\n",
            "L12\n",
            "R13\n",
            "R14\n",
            "R15\n",
            "L16\n",
            "R17\n",
            "E1\n",
            "QD1\n"
          ]
        }
      ]
    },
    {
      "cell_type": "code",
      "source": [
        "qd.createCircuito(1, ['R13', 'R14', 'R15'], loads)"
      ],
      "metadata": {
        "id": "LxOJo2dl0Qga"
      },
      "execution_count": null,
      "outputs": []
    },
    {
      "cell_type": "code",
      "source": [
        "C = qd.listCircuits(1)\n",
        "print(C.listLoadsCircuit())\n",
        "print(C.potCircuit())\n",
        "#qd.createCircuito(1, )"
      ],
      "metadata": {
        "id": "4WyQQ6HpN4Md",
        "colab": {
          "base_uri": "https://localhost:8080/"
        },
        "outputId": "07898354-4c35-4ab5-e6f8-6c1ee44c5e28"
      },
      "execution_count": null,
      "outputs": [
        {
          "output_type": "stream",
          "name": "stdout",
          "text": [
            "['R13', 'R14', 'R15']\n",
            "1800\n"
          ]
        }
      ]
    },
    {
      "cell_type": "code",
      "source": [
        "# identificacao de circuitos\n",
        "qd.idCircuitos()"
      ],
      "metadata": {
        "id": "CZ6pTTJMW56L",
        "colab": {
          "base_uri": "https://localhost:8080/"
        },
        "outputId": "cc41353e-e43b-4ece-cf12-f6f9437b31f5"
      },
      "execution_count": null,
      "outputs": [
        {
          "output_type": "execute_result",
          "data": {
            "text/plain": [
              "dict_keys([1])"
            ]
          },
          "metadata": {},
          "execution_count": 12
        }
      ]
    },
    {
      "cell_type": "markdown",
      "source": [
        "![](https://github.com/arqPy/Instala-es_El-tricas/blob/main/fig/divisao_circuitos.jpeg?raw=true)\n",
        "\n",
        "![](https://github.com/arqPy/Instala-es_El-tricas/blob/main/fig/dimensiona1.jpeg?raw=true)"
      ],
      "metadata": {
        "id": "09amxxvsKG58"
      }
    },
    {
      "cell_type": "code",
      "source": [
        "1800/(220*1*0.577)"
      ],
      "metadata": {
        "colab": {
          "base_uri": "https://localhost:8080/"
        },
        "id": "1lMcKk3-HNbF",
        "outputId": "c76e1c31-9e8c-458b-da8e-3d890b71ee59"
      },
      "execution_count": null,
      "outputs": [
        {
          "output_type": "execute_result",
          "data": {
            "text/plain": [
              "14.179927524814874"
            ]
          },
          "metadata": {},
          "execution_count": 34
        }
      ]
    },
    {
      "cell_type": "code",
      "source": [
        "import pandas as pd\n"
      ],
      "metadata": {
        "id": "ZCqSCoceK1Ku"
      },
      "execution_count": null,
      "outputs": []
    },
    {
      "cell_type": "code",
      "source": [
        "dt = pd.read_csv(\"https://raw.githubusercontent.com/arqPy/Instala-es_El-tricas/main/IE-Tabela36.csv\", sep=',', index_col=\"S\", usecols=[\"S\", \"B1-2\", \"B1-3\", \"B2-2\", \"B2-3\"] )\n",
        "dt\n"
      ],
      "metadata": {
        "colab": {
          "base_uri": "https://localhost:8080/",
          "height": 833
        },
        "id": "9BtI7aDc8Cme",
        "outputId": "5fb61079-9077-42b8-8ed4-c1453afb6c93"
      },
      "execution_count": null,
      "outputs": [
        {
          "output_type": "execute_result",
          "data": {
            "text/plain": [
              "           B1-2   B1-3   B2-2  B2-3\n",
              "S                                  \n",
              "0.50        9.0    8.0    9.0     8\n",
              "0.75       11.0   10.0   11.0    10\n",
              "1.00       14.0   12.0   13.0    12\n",
              "1.50       17.5   15.5   16.5    15\n",
              "2.50       24.0   21.0   23.0    20\n",
              "4.00       32.0   28.0   30.0    27\n",
              "6.00       41.0   36.0   38.0    34\n",
              "10.00      57.0   50.0   52.0    46\n",
              "16.00      76.0   68.0   69.0    62\n",
              "25.00     101.0   89.0   90.0    80\n",
              "35.00     125.0  110.0  111.0    99\n",
              "50.00     151.0  134.0  133.0   118\n",
              "70.00     192.0  171.0  168.0   149\n",
              "95.00     232.0  207.0  201.0   179\n",
              "120.00    269.0  239.0  232.0   206\n",
              "150.00    309.0  275.0  265.0   236\n",
              "185.00    353.0  314.0  300.0   268\n",
              "240.00    415.0  370.0  351.0   313\n",
              "300.00    477.0  426.0  401.0   358\n",
              "400.00    571.0  510.0  477.0   425\n",
              "500.00    656.0  587.0  545.0   486\n",
              "630.00    758.0  678.0  626.0   559\n",
              "800.00    881.0  788.0  723.0   645\n",
              "1000.00  1012.0  906.0  827.0   738"
            ],
            "text/html": [
              "\n",
              "\n",
              "  <div id=\"df-4ed9dea1-5c1f-486c-ba53-515640acad85\">\n",
              "    <div class=\"colab-df-container\">\n",
              "      <div>\n",
              "<style scoped>\n",
              "    .dataframe tbody tr th:only-of-type {\n",
              "        vertical-align: middle;\n",
              "    }\n",
              "\n",
              "    .dataframe tbody tr th {\n",
              "        vertical-align: top;\n",
              "    }\n",
              "\n",
              "    .dataframe thead th {\n",
              "        text-align: right;\n",
              "    }\n",
              "</style>\n",
              "<table border=\"1\" class=\"dataframe\">\n",
              "  <thead>\n",
              "    <tr style=\"text-align: right;\">\n",
              "      <th></th>\n",
              "      <th>B1-2</th>\n",
              "      <th>B1-3</th>\n",
              "      <th>B2-2</th>\n",
              "      <th>B2-3</th>\n",
              "    </tr>\n",
              "    <tr>\n",
              "      <th>S</th>\n",
              "      <th></th>\n",
              "      <th></th>\n",
              "      <th></th>\n",
              "      <th></th>\n",
              "    </tr>\n",
              "  </thead>\n",
              "  <tbody>\n",
              "    <tr>\n",
              "      <th>0.50</th>\n",
              "      <td>9.0</td>\n",
              "      <td>8.0</td>\n",
              "      <td>9.0</td>\n",
              "      <td>8</td>\n",
              "    </tr>\n",
              "    <tr>\n",
              "      <th>0.75</th>\n",
              "      <td>11.0</td>\n",
              "      <td>10.0</td>\n",
              "      <td>11.0</td>\n",
              "      <td>10</td>\n",
              "    </tr>\n",
              "    <tr>\n",
              "      <th>1.00</th>\n",
              "      <td>14.0</td>\n",
              "      <td>12.0</td>\n",
              "      <td>13.0</td>\n",
              "      <td>12</td>\n",
              "    </tr>\n",
              "    <tr>\n",
              "      <th>1.50</th>\n",
              "      <td>17.5</td>\n",
              "      <td>15.5</td>\n",
              "      <td>16.5</td>\n",
              "      <td>15</td>\n",
              "    </tr>\n",
              "    <tr>\n",
              "      <th>2.50</th>\n",
              "      <td>24.0</td>\n",
              "      <td>21.0</td>\n",
              "      <td>23.0</td>\n",
              "      <td>20</td>\n",
              "    </tr>\n",
              "    <tr>\n",
              "      <th>4.00</th>\n",
              "      <td>32.0</td>\n",
              "      <td>28.0</td>\n",
              "      <td>30.0</td>\n",
              "      <td>27</td>\n",
              "    </tr>\n",
              "    <tr>\n",
              "      <th>6.00</th>\n",
              "      <td>41.0</td>\n",
              "      <td>36.0</td>\n",
              "      <td>38.0</td>\n",
              "      <td>34</td>\n",
              "    </tr>\n",
              "    <tr>\n",
              "      <th>10.00</th>\n",
              "      <td>57.0</td>\n",
              "      <td>50.0</td>\n",
              "      <td>52.0</td>\n",
              "      <td>46</td>\n",
              "    </tr>\n",
              "    <tr>\n",
              "      <th>16.00</th>\n",
              "      <td>76.0</td>\n",
              "      <td>68.0</td>\n",
              "      <td>69.0</td>\n",
              "      <td>62</td>\n",
              "    </tr>\n",
              "    <tr>\n",
              "      <th>25.00</th>\n",
              "      <td>101.0</td>\n",
              "      <td>89.0</td>\n",
              "      <td>90.0</td>\n",
              "      <td>80</td>\n",
              "    </tr>\n",
              "    <tr>\n",
              "      <th>35.00</th>\n",
              "      <td>125.0</td>\n",
              "      <td>110.0</td>\n",
              "      <td>111.0</td>\n",
              "      <td>99</td>\n",
              "    </tr>\n",
              "    <tr>\n",
              "      <th>50.00</th>\n",
              "      <td>151.0</td>\n",
              "      <td>134.0</td>\n",
              "      <td>133.0</td>\n",
              "      <td>118</td>\n",
              "    </tr>\n",
              "    <tr>\n",
              "      <th>70.00</th>\n",
              "      <td>192.0</td>\n",
              "      <td>171.0</td>\n",
              "      <td>168.0</td>\n",
              "      <td>149</td>\n",
              "    </tr>\n",
              "    <tr>\n",
              "      <th>95.00</th>\n",
              "      <td>232.0</td>\n",
              "      <td>207.0</td>\n",
              "      <td>201.0</td>\n",
              "      <td>179</td>\n",
              "    </tr>\n",
              "    <tr>\n",
              "      <th>120.00</th>\n",
              "      <td>269.0</td>\n",
              "      <td>239.0</td>\n",
              "      <td>232.0</td>\n",
              "      <td>206</td>\n",
              "    </tr>\n",
              "    <tr>\n",
              "      <th>150.00</th>\n",
              "      <td>309.0</td>\n",
              "      <td>275.0</td>\n",
              "      <td>265.0</td>\n",
              "      <td>236</td>\n",
              "    </tr>\n",
              "    <tr>\n",
              "      <th>185.00</th>\n",
              "      <td>353.0</td>\n",
              "      <td>314.0</td>\n",
              "      <td>300.0</td>\n",
              "      <td>268</td>\n",
              "    </tr>\n",
              "    <tr>\n",
              "      <th>240.00</th>\n",
              "      <td>415.0</td>\n",
              "      <td>370.0</td>\n",
              "      <td>351.0</td>\n",
              "      <td>313</td>\n",
              "    </tr>\n",
              "    <tr>\n",
              "      <th>300.00</th>\n",
              "      <td>477.0</td>\n",
              "      <td>426.0</td>\n",
              "      <td>401.0</td>\n",
              "      <td>358</td>\n",
              "    </tr>\n",
              "    <tr>\n",
              "      <th>400.00</th>\n",
              "      <td>571.0</td>\n",
              "      <td>510.0</td>\n",
              "      <td>477.0</td>\n",
              "      <td>425</td>\n",
              "    </tr>\n",
              "    <tr>\n",
              "      <th>500.00</th>\n",
              "      <td>656.0</td>\n",
              "      <td>587.0</td>\n",
              "      <td>545.0</td>\n",
              "      <td>486</td>\n",
              "    </tr>\n",
              "    <tr>\n",
              "      <th>630.00</th>\n",
              "      <td>758.0</td>\n",
              "      <td>678.0</td>\n",
              "      <td>626.0</td>\n",
              "      <td>559</td>\n",
              "    </tr>\n",
              "    <tr>\n",
              "      <th>800.00</th>\n",
              "      <td>881.0</td>\n",
              "      <td>788.0</td>\n",
              "      <td>723.0</td>\n",
              "      <td>645</td>\n",
              "    </tr>\n",
              "    <tr>\n",
              "      <th>1000.00</th>\n",
              "      <td>1012.0</td>\n",
              "      <td>906.0</td>\n",
              "      <td>827.0</td>\n",
              "      <td>738</td>\n",
              "    </tr>\n",
              "  </tbody>\n",
              "</table>\n",
              "</div>\n",
              "      <button class=\"colab-df-convert\" onclick=\"convertToInteractive('df-4ed9dea1-5c1f-486c-ba53-515640acad85')\"\n",
              "              title=\"Convert this dataframe to an interactive table.\"\n",
              "              style=\"display:none;\">\n",
              "\n",
              "  <svg xmlns=\"http://www.w3.org/2000/svg\" height=\"24px\"viewBox=\"0 0 24 24\"\n",
              "       width=\"24px\">\n",
              "    <path d=\"M0 0h24v24H0V0z\" fill=\"none\"/>\n",
              "    <path d=\"M18.56 5.44l.94 2.06.94-2.06 2.06-.94-2.06-.94-.94-2.06-.94 2.06-2.06.94zm-11 1L8.5 8.5l.94-2.06 2.06-.94-2.06-.94L8.5 2.5l-.94 2.06-2.06.94zm10 10l.94 2.06.94-2.06 2.06-.94-2.06-.94-.94-2.06-.94 2.06-2.06.94z\"/><path d=\"M17.41 7.96l-1.37-1.37c-.4-.4-.92-.59-1.43-.59-.52 0-1.04.2-1.43.59L10.3 9.45l-7.72 7.72c-.78.78-.78 2.05 0 2.83L4 21.41c.39.39.9.59 1.41.59.51 0 1.02-.2 1.41-.59l7.78-7.78 2.81-2.81c.8-.78.8-2.07 0-2.86zM5.41 20L4 18.59l7.72-7.72 1.47 1.35L5.41 20z\"/>\n",
              "  </svg>\n",
              "      </button>\n",
              "\n",
              "\n",
              "\n",
              "    <div id=\"df-6e129e2f-c84d-4243-ae79-49790db8daff\">\n",
              "      <button class=\"colab-df-quickchart\" onclick=\"quickchart('df-6e129e2f-c84d-4243-ae79-49790db8daff')\"\n",
              "              title=\"Suggest charts.\"\n",
              "              style=\"display:none;\">\n",
              "\n",
              "<svg xmlns=\"http://www.w3.org/2000/svg\" height=\"24px\"viewBox=\"0 0 24 24\"\n",
              "     width=\"24px\">\n",
              "    <g>\n",
              "        <path d=\"M19 3H5c-1.1 0-2 .9-2 2v14c0 1.1.9 2 2 2h14c1.1 0 2-.9 2-2V5c0-1.1-.9-2-2-2zM9 17H7v-7h2v7zm4 0h-2V7h2v10zm4 0h-2v-4h2v4z\"/>\n",
              "    </g>\n",
              "</svg>\n",
              "      </button>\n",
              "    </div>\n",
              "\n",
              "<style>\n",
              "  .colab-df-quickchart {\n",
              "    background-color: #E8F0FE;\n",
              "    border: none;\n",
              "    border-radius: 50%;\n",
              "    cursor: pointer;\n",
              "    display: none;\n",
              "    fill: #1967D2;\n",
              "    height: 32px;\n",
              "    padding: 0 0 0 0;\n",
              "    width: 32px;\n",
              "  }\n",
              "\n",
              "  .colab-df-quickchart:hover {\n",
              "    background-color: #E2EBFA;\n",
              "    box-shadow: 0px 1px 2px rgba(60, 64, 67, 0.3), 0px 1px 3px 1px rgba(60, 64, 67, 0.15);\n",
              "    fill: #174EA6;\n",
              "  }\n",
              "\n",
              "  [theme=dark] .colab-df-quickchart {\n",
              "    background-color: #3B4455;\n",
              "    fill: #D2E3FC;\n",
              "  }\n",
              "\n",
              "  [theme=dark] .colab-df-quickchart:hover {\n",
              "    background-color: #434B5C;\n",
              "    box-shadow: 0px 1px 3px 1px rgba(0, 0, 0, 0.15);\n",
              "    filter: drop-shadow(0px 1px 2px rgba(0, 0, 0, 0.3));\n",
              "    fill: #FFFFFF;\n",
              "  }\n",
              "</style>\n",
              "\n",
              "    <script>\n",
              "      async function quickchart(key) {\n",
              "        const containerElement = document.querySelector('#' + key);\n",
              "        const charts = await google.colab.kernel.invokeFunction(\n",
              "            'suggestCharts', [key], {});\n",
              "      }\n",
              "    </script>\n",
              "\n",
              "      <script>\n",
              "\n",
              "function displayQuickchartButton(domScope) {\n",
              "  let quickchartButtonEl =\n",
              "    domScope.querySelector('#df-6e129e2f-c84d-4243-ae79-49790db8daff button.colab-df-quickchart');\n",
              "  quickchartButtonEl.style.display =\n",
              "    google.colab.kernel.accessAllowed ? 'block' : 'none';\n",
              "}\n",
              "\n",
              "        displayQuickchartButton(document);\n",
              "      </script>\n",
              "      <style>\n",
              "    .colab-df-container {\n",
              "      display:flex;\n",
              "      flex-wrap:wrap;\n",
              "      gap: 12px;\n",
              "    }\n",
              "\n",
              "    .colab-df-convert {\n",
              "      background-color: #E8F0FE;\n",
              "      border: none;\n",
              "      border-radius: 50%;\n",
              "      cursor: pointer;\n",
              "      display: none;\n",
              "      fill: #1967D2;\n",
              "      height: 32px;\n",
              "      padding: 0 0 0 0;\n",
              "      width: 32px;\n",
              "    }\n",
              "\n",
              "    .colab-df-convert:hover {\n",
              "      background-color: #E2EBFA;\n",
              "      box-shadow: 0px 1px 2px rgba(60, 64, 67, 0.3), 0px 1px 3px 1px rgba(60, 64, 67, 0.15);\n",
              "      fill: #174EA6;\n",
              "    }\n",
              "\n",
              "    [theme=dark] .colab-df-convert {\n",
              "      background-color: #3B4455;\n",
              "      fill: #D2E3FC;\n",
              "    }\n",
              "\n",
              "    [theme=dark] .colab-df-convert:hover {\n",
              "      background-color: #434B5C;\n",
              "      box-shadow: 0px 1px 3px 1px rgba(0, 0, 0, 0.15);\n",
              "      filter: drop-shadow(0px 1px 2px rgba(0, 0, 0, 0.3));\n",
              "      fill: #FFFFFF;\n",
              "    }\n",
              "  </style>\n",
              "\n",
              "      <script>\n",
              "        const buttonEl =\n",
              "          document.querySelector('#df-4ed9dea1-5c1f-486c-ba53-515640acad85 button.colab-df-convert');\n",
              "        buttonEl.style.display =\n",
              "          google.colab.kernel.accessAllowed ? 'block' : 'none';\n",
              "\n",
              "        async function convertToInteractive(key) {\n",
              "          const element = document.querySelector('#df-4ed9dea1-5c1f-486c-ba53-515640acad85');\n",
              "          const dataTable =\n",
              "            await google.colab.kernel.invokeFunction('convertToInteractive',\n",
              "                                                     [key], {});\n",
              "          if (!dataTable) return;\n",
              "\n",
              "          const docLinkHtml = 'Like what you see? Visit the ' +\n",
              "            '<a target=\"_blank\" href=https://colab.research.google.com/notebooks/data_table.ipynb>data table notebook</a>'\n",
              "            + ' to learn more about interactive tables.';\n",
              "          element.innerHTML = '';\n",
              "          dataTable['output_type'] = 'display_data';\n",
              "          await google.colab.output.renderOutput(dataTable, element);\n",
              "          const docLink = document.createElement('div');\n",
              "          docLink.innerHTML = docLinkHtml;\n",
              "          element.appendChild(docLink);\n",
              "        }\n",
              "      </script>\n",
              "    </div>\n",
              "  </div>\n"
            ]
          },
          "metadata": {},
          "execution_count": 23
        }
      ]
    },
    {
      "cell_type": "code",
      "source": [
        "lista = list(dt.index)\n",
        "lista = [x for x in lista if x >= 2.5 and x < 100]\n",
        "lista"
      ],
      "metadata": {
        "colab": {
          "base_uri": "https://localhost:8080/"
        },
        "id": "F6Cs9Q2jzi7H",
        "outputId": "76dee878-131a-4936-c683-38e2538b3c21"
      },
      "execution_count": null,
      "outputs": [
        {
          "output_type": "execute_result",
          "data": {
            "text/plain": [
              "[2.5, 4.0, 6.0, 10.0, 16.0, 25.0, 35.0, 50.0, 70.0, 95.0]"
            ]
          },
          "metadata": {},
          "execution_count": 29
        }
      ]
    },
    {
      "cell_type": "code",
      "source": [
        "# Capacidade de cabo\n",
        "s = 1.5\n",
        "print(\"Cabo de %f : %f\" %(s, dt.loc[s, 'B1-2']))\n",
        "s = 2.5\n",
        "print(\"Cabo de %f : %f\" %(s, dt.loc[s, 'B1-2']))"
      ],
      "metadata": {
        "colab": {
          "base_uri": "https://localhost:8080/"
        },
        "id": "rtsu9l-L6rJi",
        "outputId": "5c22fd1e-f8b7-484d-d655-e82b337c969c"
      },
      "execution_count": null,
      "outputs": [
        {
          "output_type": "stream",
          "name": "stdout",
          "text": [
            "Cabo de 1.500000 : 17.500000\n",
            "Cabo de 2.500000 : 24.000000\n"
          ]
        }
      ]
    },
    {
      "cell_type": "code",
      "source": [
        "# determinar a seção devido a capacidade de corrente do circuito 7\n",
        "'''\n",
        "Dados: Icorrig = 29.55 e Método B1-2\n",
        "'''\n",
        "Icor = 29.5\n",
        "S = 0.5\n",
        "for s in dt.index:\n",
        "  if (dt.loc[s, 'B1-2'] >= Icor):\n",
        "    S = s\n",
        "    break\n",
        "print(S)\n"
      ],
      "metadata": {
        "id": "yaICCFQt8fSy",
        "colab": {
          "base_uri": "https://localhost:8080/"
        },
        "outputId": "8b1f9096-f391-484c-c45e-0b20cc299ba5"
      },
      "execution_count": null,
      "outputs": [
        {
          "output_type": "stream",
          "name": "stdout",
          "text": [
            "4.0\n"
          ]
        }
      ]
    },
    {
      "cell_type": "code",
      "source": [
        "dt.index"
      ],
      "metadata": {
        "id": "_JkFeHtKlvlx",
        "colab": {
          "base_uri": "https://localhost:8080/"
        },
        "outputId": "a9ce182a-6dd5-4546-b114-180a0ea2fa29"
      },
      "execution_count": null,
      "outputs": [
        {
          "output_type": "execute_result",
          "data": {
            "text/plain": [
              "Float64Index([   0.5,   0.75,    1.0,    1.5,    2.5,    4.0,    6.0,   10.0,\n",
              "                16.0,   25.0,   35.0,   50.0,   70.0,   95.0,  120.0,  150.0,\n",
              "               185.0,  240.0,  300.0,  400.0,  500.0,  630.0,  800.0, 1000.0],\n",
              "             dtype='float64', name='S')"
            ]
          },
          "metadata": {},
          "execution_count": 7
        }
      ]
    },
    {
      "cell_type": "code",
      "source": [],
      "metadata": {
        "id": "uxMPdKbHb3tk"
      },
      "execution_count": null,
      "outputs": []
    },
    {
      "cell_type": "markdown",
      "source": [
        "![](https://github.com/arqPy/Instala-es_El-tricas/blob/main/fig/Instalacao_full.jpeg?raw=true)\n",
        "\n",
        "\n",
        "\n",
        "![](https://github.com/arqPy/Instala-es_El-tricas/blob/main/fig/dimensiona2.jpeg?raw=true)"
      ],
      "metadata": {
        "id": "tkFnIY4MATSr"
      }
    },
    {
      "cell_type": "code",
      "source": [
        "from urllib.request import urlopen\n",
        "\n",
        "import json\n",
        "\n",
        "url = \"https://raw.githubusercontent.com/arqPy/Instala-es_El-tricas/main/eletrodutos.json\"\n",
        "\n",
        "response = urlopen(url)\n",
        "\n",
        "data_json = json.loads(response.read())\n",
        "\n",
        "print(data_json)"
      ],
      "metadata": {
        "colab": {
          "base_uri": "https://localhost:8080/"
        },
        "id": "g2RzRVRWe0EK",
        "outputId": "b58b5c8b-65bd-470c-c666-5e3aa17447be"
      },
      "execution_count": null,
      "outputs": [
        {
          "output_type": "stream",
          "name": "stdout",
          "text": [
            "[{'Trecho Eletroduto': 'T01', 'Cargas': {'NP': 'QD1', 'NC': 'L12', 'Comprimento': 3}}, {'Trecho Eletroduto': 'T02', 'Cargas': {'NP': 'L12', 'NC': 'R15', 'Comprimento': 2}}, {'Trecho Eletroduto': 'T03', 'Cargas': {'NP': 'L12', 'NC': 'L1', 'Comprimento': 2}}]\n"
          ]
        }
      ]
    },
    {
      "cell_type": "code",
      "source": [
        "trechos = {}\n",
        "for item in data_json:\n",
        "  key = item['Trecho Eletroduto']\n",
        "  value = item['Cargas']\n",
        "  trechos[key] = value\n",
        "trechos"
      ],
      "metadata": {
        "colab": {
          "base_uri": "https://localhost:8080/"
        },
        "id": "U5jOYanvpSKn",
        "outputId": "dd80d94e-1b32-4bf5-c65b-196421581820"
      },
      "execution_count": null,
      "outputs": [
        {
          "output_type": "execute_result",
          "data": {
            "text/plain": [
              "{'T01': {'NP': 'QD1', 'NC': 'L12', 'Comprimento': 3},\n",
              " 'T02': {'NP': 'L12', 'NC': 'R15', 'Comprimento': 2},\n",
              " 'T03': {'NP': 'L12', 'NC': 'L1', 'Comprimento': 2}}"
            ]
          },
          "metadata": {},
          "execution_count": 4
        }
      ]
    },
    {
      "cell_type": "code",
      "source": [
        "trechos['T01']['NP']"
      ],
      "metadata": {
        "colab": {
          "base_uri": "https://localhost:8080/",
          "height": 35
        },
        "id": "gRSXYVvWt1iM",
        "outputId": "725fe23b-153d-49ec-d15e-6f4e64dab577"
      },
      "execution_count": null,
      "outputs": [
        {
          "output_type": "execute_result",
          "data": {
            "text/plain": [
              "'QD1'"
            ],
            "application/vnd.google.colaboratory.intrinsic+json": {
              "type": "string"
            }
          },
          "metadata": {},
          "execution_count": 7
        }
      ]
    },
    {
      "cell_type": "code",
      "source": [
        "# queda de tensao\n",
        "ro_Cobre = 1/56\n",
        "d = 20\n",
        "Icorr = 14.17\n",
        "deltaV = 4/100\n",
        "V = 220\n",
        "S = (2*ro_Cobre*d*Icorr)/(deltaV*V)\n",
        "S"
      ],
      "metadata": {
        "id": "f8XFvuW-AXiA",
        "colab": {
          "base_uri": "https://localhost:8080/"
        },
        "outputId": "48779bc8-b0f5-401f-afa5-c9e4801fc4d5"
      },
      "execution_count": null,
      "outputs": [
        {
          "output_type": "execute_result",
          "data": {
            "text/plain": [
              "1.1501623376623373"
            ]
          },
          "metadata": {},
          "execution_count": 1
        }
      ]
    },
    {
      "cell_type": "code",
      "source": [
        "import networkx as nx"
      ],
      "metadata": {
        "id": "BsmpGqaM516W"
      },
      "execution_count": null,
      "outputs": []
    },
    {
      "cell_type": "code",
      "source": [
        "posicoes_vertices = {\n",
        "  'L1':[0.8, 4.8],\n",
        "  'L4':[1.8, 1.3],\n",
        "  'R5':[0.8, 0.8],\n",
        "  'R6':[3, 0.8],\n",
        "  'R7':[0.5, 1.5],\n",
        "  'L8':[3.3, 2],\n",
        "  'L12':[2.3, 4.8],\n",
        "  'L16':[1.8, 2.7]\n",
        "                     }"
      ],
      "metadata": {
        "id": "mthv9_sH3SKW"
      },
      "execution_count": null,
      "outputs": []
    },
    {
      "cell_type": "code",
      "source": [
        "'''posicoes_vertices = {0:[3, 0], 1:[1, 3], 2:[4, 3], 3:[2, 0]}\n",
        "posicoes_vertices = {\n",
        "  'L1':[1.8, 1.3],\n",
        "  'R3':[1.8, 1.3],\n",
        "  'L4':[1.8, 1.3],\n",
        "  'R5':[1.8, 1.3],\n",
        "  'R6':[1.8, 1.3],\n",
        "  'R7':[1.8, 1.3],\n",
        "  'L8':[1.8, 1.3],\n",
        "  'R9':[1.8, 1.3],\n",
        "  'R10':[1.8, 1.3],\n",
        "  'R11':[1.8, 1.3],\n",
        "  'L12':[1.8, 1.3],\n",
        "  'R13':[1.8, 1.3],\n",
        "  'R14':[1.8, 1.3],\n",
        "  'R15':[1.8, 1.3],\n",
        "  'L16':[1.8, 1.3],\n",
        "  'R17':[1.8, 1.3],\n",
        "  'E1':[1.8, 1.3],\n",
        "  'QD1':[1.8, 1.3]\n",
        "'''\n",
        "nos = list(posicoes_vertices.keys())\n",
        "nos\n"
      ],
      "metadata": {
        "id": "R1s9Gtio-Eo-",
        "colab": {
          "base_uri": "https://localhost:8080/"
        },
        "outputId": "4ef29450-843b-4f6b-a0d7-395e83e5c51d"
      },
      "execution_count": null,
      "outputs": [
        {
          "output_type": "execute_result",
          "data": {
            "text/plain": [
              "['L1', 'L4', 'R5', 'R6', 'R7', 'L8', 'L12', 'L16']"
            ]
          },
          "metadata": {},
          "execution_count": 3
        }
      ]
    },
    {
      "cell_type": "code",
      "source": [
        "G = nx.DiGraph()"
      ],
      "metadata": {
        "id": "iRk7QADA-gTJ"
      },
      "execution_count": null,
      "outputs": []
    },
    {
      "cell_type": "code",
      "source": [
        "G.add_edges_from([(\"L1\", \"L12\"), (\"L4\", \"R5\")])\n",
        "G.add_nodes_from(nos)"
      ],
      "metadata": {
        "id": "Mdupc6Qx_NE9"
      },
      "execution_count": null,
      "outputs": []
    },
    {
      "cell_type": "code",
      "source": [
        "nx.draw_networkx(G, posicoes_vertices)"
      ],
      "metadata": {
        "colab": {
          "base_uri": "https://localhost:8080/",
          "height": 406
        },
        "id": "0cK9x9bm_xgX",
        "outputId": "39daa5a3-9afd-41bd-fced-ac05287eb571"
      },
      "execution_count": null,
      "outputs": [
        {
          "output_type": "display_data",
          "data": {
            "text/plain": [
              "<Figure size 640x480 with 1 Axes>"
            ],
            "image/png": "[encoded data removed]"
          },
          "metadata": {}
        }
      ]
    },
    {
      "cell_type": "code",
      "source": [],
      "metadata": {
        "id": "EqzCzz9uAbSf"
      },
      "execution_count": null,
      "outputs": []
    },
    {
      "cell_type": "markdown",
      "source": [
        "https://towardsdatascience.com/graph-visualisation-basics-with-python-part-ii-directed-graph-with-networkx-5c1cd5564daa"
      ],
      "metadata": {
        "id": "MSb9z3tzhn8z"
      }
    }
  ]
}